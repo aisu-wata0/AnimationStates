{
 "cells": [
  {
   "cell_type": "code",
   "execution_count": 39,
   "metadata": {},
   "outputs": [],
   "source": [
    "\n",
    "import dynamics\n",
    "import numpy as np\n",
    "\n",
    "scale = 30 # fps\n",
    "length = 6\n",
    "\n",
    "def plot_step_response(f,z,r, length=length, scale=scale, fig_size=5):\n",
    "\ty = []\n",
    "\tdyn = dynamics.SecondOrderDynamics(f, z, r, np.array([0.0]))\n",
    "\tfor i in range(int(length*scale)):\n",
    "\t\tif i < 1*scale:\n",
    "\t\t\ty.append(dyn.update(1/scale, np.array([0.0]))[0])\n",
    "\t\telse:\n",
    "\t\t\ty.append(dyn.update(1/scale, np.array([1.0]))[0])\n",
    "\n",
    "\n",
    "\timport matplotlib.pyplot as plt\n",
    "\n",
    "\tfig, ax = plt.subplots(figsize=(fig_size*2,fig_size))\n",
    "\tax.set_title(f\"f={f}, z={z}, r={r},\")\n",
    "\tax.plot(np.array(range(int(length*scale))) / scale, y, 'k-')\n",
    "\n",
    "\tfig.tight_layout()\n",
    "\n",
    "\n",
    "# for f,z,r in [\n",
    "# \t(1, 0, 0),\n",
    "# \t(1, 0.45, 0),\n",
    "# ]:\n",
    "# \tprint(f, z, r,)\n",
    "# \tplot_step_response(f, z, r,)\n",
    "\n",
    "# plt.show()\n",
    "\n"
   ]
  },
  {
   "cell_type": "code",
   "execution_count": 40,
   "metadata": {},
   "outputs": [
    {
     "data": {
      "application/vnd.jupyter.widget-view+json": {
       "model_id": "608daf35c9124bb8aa1bf4f08e4c7e44",
       "version_major": 2,
       "version_minor": 0
      },
      "text/plain": [
       "interactive(children=(FloatSlider(value=1.0, description='f', max=5.0, min=-5.0), FloatSlider(value=1.0, descr…"
      ]
     },
     "execution_count": 40,
     "metadata": {},
     "output_type": "execute_result"
    }
   ],
   "source": [
    "import numpy as np\n",
    "import pandas as pd\n",
    "import matplotlib.pyplot as plt\n",
    "import ipywidgets\n",
    "from ipywidgets import interactive\n",
    "%matplotlib inline\n",
    "\n",
    "slider_magnitude = 5\n",
    "\n",
    "def g(f, z, r, length, scale, fig_size):\n",
    "    plot_step_response(f, z, r, length=length, scale=scale, fig_size=fig_size)\n",
    "    plt.show()\n",
    "\n",
    "interactive_plot = interactive(\n",
    "    g,\n",
    "\tlength=ipywidgets.FloatSlider(value=length, description='length', max=6, min=0),\n",
    "\tscale=ipywidgets.IntSlider(value=scale, description='scale', max=10, min=0),\n",
    "\tfig_size=ipywidgets.IntSlider(value=8, description='fig_size', max=20, min=0),\n",
    "\tf=ipywidgets.FloatSlider(value=1, description='f', max=slider_magnitude, min=-slider_magnitude),\n",
    "\tz=ipywidgets.FloatSlider(value=1, description='z', max=slider_magnitude, min=-slider_magnitude),\n",
    "\tr=ipywidgets.FloatSlider(value=1, description='r', max=slider_magnitude, min=-slider_magnitude),\n",
    ")\n",
    "interactive_plot"
   ]
  },
  {
   "cell_type": "code",
   "execution_count": null,
   "metadata": {},
   "outputs": [],
   "source": []
  }
 ],
 "metadata": {
  "kernelspec": {
   "display_name": "whisper",
   "language": "python",
   "name": "python3"
  },
  "language_info": {
   "codemirror_mode": {
    "name": "ipython",
    "version": 3
   },
   "file_extension": ".py",
   "mimetype": "text/x-python",
   "name": "python",
   "nbconvert_exporter": "python",
   "pygments_lexer": "ipython3",
   "version": "3.10.9"
  },
  "orig_nbformat": 4
 },
 "nbformat": 4,
 "nbformat_minor": 2
}
